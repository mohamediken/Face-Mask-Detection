{
 "cells": [
  {
   "cell_type": "markdown",
   "metadata": {},
   "source": [
    "# Détection des visages avec et sans masques\n",
    "\n",
    "![](proceduredepredictionparmodul.jpg)"
   ]
  },
  {
   "cell_type": "markdown",
   "metadata": {},
   "source": [
    "# Prédiction avec caméra de PC"
   ]
  },
  {
   "cell_type": "code",
   "execution_count": null,
   "metadata": {
    "scrolled": true
   },
   "outputs": [
    {
     "name": "stdout",
     "output_type": "stream",
     "text": [
      "pygame 2.1.2 (SDL 2.0.18, Python 3.9.7)\n",
      "Hello from the pygame community. https://www.pygame.org/contribute.html\n"
     ]
    }
   ],
   "source": [
    "from keras.models import load_model\n",
    "import cv2\n",
    "import numpy as np\n",
    "from pygame import mixer \n",
    "\n",
    "\n",
    "model = load_model('model-019.model')\n",
    "\n",
    "face_clsfr=cv2.CascadeClassifier('haarcascade_frontalface_default.xml')\n",
    "\n",
    "mixer.init()    \n",
    "sound=mixer.Sound('alerte.mp3')\n",
    "\n",
    "source=cv2.VideoCapture(0)\n",
    "\n",
    " \n",
    "\n",
    "labels_dict={0:' MASK',1: 'NO MASK'}\n",
    "color_dict={0:(0,255,0),1:(0,0,255)}\n",
    "\n",
    "\n",
    "        \n",
    "\n",
    "    \n",
    "\n",
    "while(True):\n",
    "\n",
    "    ret,img=source.read()\n",
    "    gray=cv2.cvtColor(img,cv2.COLOR_BGR2GRAY)\n",
    "    faces=face_clsfr.detectMultiScale(gray,1.2,3)  \n",
    "\n",
    "    for (x,y,w,h) in faces:\n",
    "    \n",
    "        face_img=gray[y:y+h,x:x+w]\n",
    "        resized=cv2.resize(face_img,(100,100))\n",
    "        normalized=resized/255.0\n",
    "        reshaped=np.reshape(normalized,(1,100,100,1))\n",
    "        result=model.predict(reshaped)\n",
    "\n",
    "        label=np.argmax(result,axis=1)[0]\n",
    "      \n",
    "        cv2.rectangle(img,(x,y),(x+w,y+h),color_dict[label],4)\n",
    "        cv2.rectangle(img,(x,y-40),(x+w,y),color_dict[label],-1)\n",
    "        cv2.putText(img, labels_dict[label], (x, y-10),cv2.FONT_HERSHEY_SIMPLEX,0.8,(255,255,255),4)\n",
    "\n",
    "        \n",
    "       # print(labels_dict[label])\n",
    "    \n",
    "        if labels_dict[label]=='NO MASK':\n",
    "            sound.play()\n",
    "            \n",
    "        \n",
    "        \n",
    "        \n",
    "            \n",
    "        #if labels_dict[label]=='NO MASK':\n",
    "           # message='portez votre masque'\n",
    "            #color=(255,255,255)\n",
    " #cv2.putText(frame,message,(100,150),cv2.FONT_HERSHEY_SIMPLEX,0.8,color,3)\n",
    "        \n",
    "    cv2.imshow('LIVE',img)\n",
    "    key=cv2.waitKey(1)\n",
    "    \n",
    "    if(key==27):\n",
    "        break\n",
    "        \n",
    "cv2.destroyAllWindows()\n",
    "source.release()"
   ]
  },
  {
   "cell_type": "code",
   "execution_count": null,
   "metadata": {},
   "outputs": [],
   "source": []
  },
  {
   "cell_type": "markdown",
   "metadata": {},
   "source": [
    "# Prédiction sur image "
   ]
  },
  {
   "cell_type": "code",
   "execution_count": 1,
   "metadata": {},
   "outputs": [
    {
     "name": "stdout",
     "output_type": "stream",
     "text": [
      "[[7.4061405e-05 9.9992597e-01]]\n",
      "[[0.988223   0.01177699]]\n",
      "[[0.21022098 0.789779  ]]\n"
     ]
    }
   ],
   "source": [
    "from keras.models import load_model\n",
    "import cv2\n",
    "import numpy as np\n",
    "model = load_model('model-019.model')\n",
    "\n",
    "face_clsfr=cv2.CascadeClassifier('haarcascade_frontalface_default.xml')\n",
    "\n",
    "img=cv2.imread(\"lum.jpeg\")\n",
    "\n",
    "labels_dict={0:' MASK',1: 'NO MASK'}\n",
    "color_dict={0:(0,255,0),1:(0,0,255)}\n",
    "\n",
    "gray=cv2.cvtColor(img,cv2.COLOR_BGR2GRAY)\n",
    "faces=face_clsfr.detectMultiScale(gray,1.3,4)  \n",
    "\n",
    "for (x,y,w,h) in faces:\n",
    "    face_img=gray[y:y+h,x:x+w]\n",
    "    resized=cv2.resize(face_img,(100,100))\n",
    "    normalized=resized/255.0\n",
    "    reshaped=np.reshape(normalized,(1,100,100,1))\n",
    "    result=model.predict(reshaped)\n",
    "    print(result)\n",
    "\n",
    "    label=np.argmax(result,axis=1)[0]\n",
    "      \n",
    "    cv2.rectangle(img,(x,y),(x+w,y+h),color_dict[label],2)\n",
    "    cv2.rectangle(img,(x,y-40),(x+w,y),color_dict[label],-1)\n",
    "    \n",
    "    cv2.putText(img, labels_dict[label], (x, y-10),cv2.FONT_HERSHEY_SIMPLEX,0.8,(255,255,255),2)      \n",
    "cv2.imshow('LIVE',img)\n",
    "cv2.imwrite('mask005.jpg',img)\n",
    "cv2.waitKey(0)\n",
    "cv2.destroyAllWindows()"
   ]
  },
  {
   "cell_type": "markdown",
   "metadata": {},
   "source": [
    "![Prediction.jpg](Prediction.jpg)"
   ]
  },
  {
   "cell_type": "markdown",
   "metadata": {},
   "source": [
    "# detection  et classification de visage dans une image avec le module CNN\n",
    "\n",
    "# sur image : \n",
    "![](masktest45.jpg)\n",
    "![](maskAaron_Tippin_0001.jpg) \n",
    "# en temps réel avec caméra :\n",
    "![](exempleNOMASK.png)\n",
    "![](exempleMASK.png)\n",
    "\n",
    "# EXemple de plusieurs visages:\n",
    "![](REspacepublic2.jpg)"
   ]
  },
  {
   "cell_type": "code",
   "execution_count": 3,
   "metadata": {
    "scrolled": true
   },
   "outputs": [
    {
     "name": "stdout",
     "output_type": "stream",
     "text": [
      "Requirement already satisfied: pygame in c:\\programdata\\anaconda3\\lib\\site-packages (2.1.2)\n"
     ]
    },
    {
     "name": "stderr",
     "output_type": "stream",
     "text": [
      "WARNING: Ignoring invalid distribution -ckaging (c:\\programdata\\anaconda3\\lib\\site-packages)\n",
      "WARNING: Ignoring invalid distribution - (c:\\programdata\\anaconda3\\lib\\site-packages)\n",
      "WARNING: Ignoring invalid distribution -ackaging (c:\\programdata\\anaconda3\\lib\\site-packages)\n",
      "WARNING: Ignoring invalid distribution -ckaging (c:\\programdata\\anaconda3\\lib\\site-packages)\n",
      "WARNING: Ignoring invalid distribution - (c:\\programdata\\anaconda3\\lib\\site-packages)\n",
      "WARNING: Ignoring invalid distribution -ackaging (c:\\programdata\\anaconda3\\lib\\site-packages)\n",
      "WARNING: Ignoring invalid distribution -ckaging (c:\\programdata\\anaconda3\\lib\\site-packages)\n",
      "WARNING: Ignoring invalid distribution - (c:\\programdata\\anaconda3\\lib\\site-packages)\n",
      "WARNING: Ignoring invalid distribution -ackaging (c:\\programdata\\anaconda3\\lib\\site-packages)\n",
      "WARNING: Ignoring invalid distribution -ckaging (c:\\programdata\\anaconda3\\lib\\site-packages)\n",
      "WARNING: Ignoring invalid distribution - (c:\\programdata\\anaconda3\\lib\\site-packages)\n",
      "WARNING: Ignoring invalid distribution -ackaging (c:\\programdata\\anaconda3\\lib\\site-packages)\n",
      "WARNING: Ignoring invalid distribution -ckaging (c:\\programdata\\anaconda3\\lib\\site-packages)\n",
      "WARNING: Ignoring invalid distribution - (c:\\programdata\\anaconda3\\lib\\site-packages)\n",
      "WARNING: Ignoring invalid distribution -ackaging (c:\\programdata\\anaconda3\\lib\\site-packages)\n",
      "WARNING: Ignoring invalid distribution -ckaging (c:\\programdata\\anaconda3\\lib\\site-packages)\n",
      "WARNING: Ignoring invalid distribution - (c:\\programdata\\anaconda3\\lib\\site-packages)\n",
      "WARNING: Ignoring invalid distribution -ackaging (c:\\programdata\\anaconda3\\lib\\site-packages)\n"
     ]
    }
   ],
   "source": [
    "!pip install pygame"
   ]
  }
 ],
 "metadata": {
  "kernelspec": {
   "display_name": "Python 3 (ipykernel)",
   "language": "python",
   "name": "python3"
  },
  "language_info": {
   "codemirror_mode": {
    "name": "ipython",
    "version": 3
   },
   "file_extension": ".py",
   "mimetype": "text/x-python",
   "name": "python",
   "nbconvert_exporter": "python",
   "pygments_lexer": "ipython3",
   "version": "3.9.7"
  }
 },
 "nbformat": 4,
 "nbformat_minor": 2
}
