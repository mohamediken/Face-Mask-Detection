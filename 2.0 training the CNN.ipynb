{
 "cells": [
  {
   "cell_type": "markdown",
   "metadata": {},
   "source": [
    "# Architecture de réseau neuronal convolutif\n",
    "\n",
    "![moduleCNN.jpg](moduleCNN.jpg)"
   ]
  },
  {
   "cell_type": "code",
   "execution_count": 1,
   "metadata": {},
   "outputs": [],
   "source": [
    "# chargement des tableaux de sauvegarde numpy dans le code précédent\n",
    "import numpy as np\n",
    "\n",
    "data=np.load('data.npy')\n",
    "target=np.load('target.npy')\n"
   ]
  },
  {
   "cell_type": "code",
   "execution_count": 2,
   "metadata": {},
   "outputs": [
    {
     "name": "stderr",
     "output_type": "stream",
     "text": [
      "Using TensorFlow backend.\n"
     ]
    },
    {
     "name": "stdout",
     "output_type": "stream",
     "text": [
      "Model: \"sequential_1\"\n",
      "_________________________________________________________________\n",
      "Layer (type)                 Output Shape              Param #   \n",
      "=================================================================\n",
      "conv2d_1 (Conv2D)            (None, 98, 98, 200)       2000      \n",
      "_________________________________________________________________\n",
      "activation_1 (Activation)    (None, 98, 98, 200)       0         \n",
      "_________________________________________________________________\n",
      "max_pooling2d_1 (MaxPooling2 (None, 49, 49, 200)       0         \n",
      "_________________________________________________________________\n",
      "conv2d_2 (Conv2D)            (None, 47, 47, 100)       180100    \n",
      "_________________________________________________________________\n",
      "activation_2 (Activation)    (None, 47, 47, 100)       0         \n",
      "_________________________________________________________________\n",
      "max_pooling2d_2 (MaxPooling2 (None, 23, 23, 100)       0         \n",
      "_________________________________________________________________\n",
      "flatten_1 (Flatten)          (None, 52900)             0         \n",
      "_________________________________________________________________\n",
      "dropout_1 (Dropout)          (None, 52900)             0         \n",
      "_________________________________________________________________\n",
      "dense_1 (Dense)              (None, 50)                2645050   \n",
      "_________________________________________________________________\n",
      "dense_2 (Dense)              (None, 2)                 102       \n",
      "=================================================================\n",
      "Total params: 2,827,252\n",
      "Trainable params: 2,827,252\n",
      "Non-trainable params: 0\n",
      "_________________________________________________________________\n",
      "None\n"
     ]
    }
   ],
   "source": [
    "from keras.models import Sequential\n",
    "from keras.layers import Dense,Activation,Flatten,Dropout\n",
    "from keras.layers import Conv2D,MaxPooling2D\n",
    "from keras.callbacks import ModelCheckpoint\n",
    "from tensorflow import keras\n",
    "from tensorflow.keras import layers\n",
    "\n",
    "#créer le module \n",
    "model=Sequential()\n",
    "\n",
    "#ajouter La première couche CNN suivie de fonction d'activation Relu et MaxPooling\n",
    "model.add(Conv2D(200,(3,3),input_shape=data.shape[1:]))\n",
    "#(nombre de sortie, taille de filter, nombre d'entrer , pas, padding(valid==>n'a pas de padding et same il existe de padding)\n",
    "#fonction d'activation relu \n",
    "model.add(Activation('relu'))\n",
    "#model.add(type de pooling(size de pooling pool_size=(2,2), strides=(2,2) pas de pooling))\n",
    "model.add(MaxPooling2D(pool_size=(2,2)))\n",
    "\n",
    "#ajouter La deuxième couche CNN suivie de fonction d'activation Relu et MaxPooling\n",
    "\n",
    "model.add(Conv2D(100,(3,3)))\n",
    "model.add(Activation('relu'))\n",
    "model.add(MaxPooling2D(pool_size=(2,2)))\n",
    "\n",
    "#flatten (applatissement) convertire les données extraite de l'image en un vecteur de taille NxN\n",
    "model.add(Flatten())\n",
    "#drpout l'aider et désactiver certans neurones d'une couche lors des étapes de l'apprentissage\n",
    "model.add(Dropout(0.5))\n",
    "#Flatten (Aplatisement) Aplatir la couche pour empiler les convolutions de sortie de la deuxième couche de convolution\n",
    "model.add(Dense(50,activation='relu'))\n",
    "#couche Dense de 50 neurones\n",
    "model.add(Dense(2,activation='softmax'))\n",
    "#La couche finale avec deux sorties pour deux catégories\n",
    "\n",
    "model.compile(loss='categorical_crossentropy',optimizer='adam',metrics=['accuracy'])\n",
    "#fonction d'erreur d'entropie croisée pour catégories \n",
    "print(model.summary())"
   ]
  },
  {
   "cell_type": "code",
   "execution_count": null,
   "metadata": {},
   "outputs": [],
   "source": [
    "from keras.layers import Conv2D,MaxPooling2D\n",
    "from keras.callbacks import ModelCheckpoint\n",
    "from tensorflow import keras\n",
    "from tensorflow.keras import layers\n",
    "\n",
    "model=Sequential()\n",
    "\n",
    "model.add(Conv2D(200,(3,3),input_shape=data.shape[1:]))\n",
    "model.add(Activation('relu'))\n",
    "\n",
    "model.add(MaxPooling2D(pool_size=(2,2)))\n",
    "\n",
    "model.add(Conv2D(100,(3,3)))\n",
    "model.add(Activation('relu'))\n",
    "model.add(MaxPooling2D(pool_size=(2,2)))\n",
    "\n",
    "model.add(Flatten())\n",
    "\n",
    "model.add(Dropout(0.5))\n",
    "\n",
    "model.add(Dense(50,activation='relu'))\n",
    "\n",
    "model.add(Dense(2,activation='softmax'))\n",
    "\n",
    "model.compile(loss='categorical_crossentropy',optimizer='adam',metrics=['accuracy'])\n",
    "\n",
    "print(model.summary())"
   ]
  },
  {
   "cell_type": "code",
   "execution_count": 3,
   "metadata": {},
   "outputs": [],
   "source": [
    "from sklearn.model_selection import train_test_split\n",
    "\n",
    "train_data,test_data,train_target,test_target=train_test_split(data,target,test_size=0.1)"
   ]
  },
  {
   "cell_type": "code",
   "execution_count": 4,
   "metadata": {},
   "outputs": [
    {
     "name": "stdout",
     "output_type": "stream",
     "text": [
      "Train on 2438 samples, validate on 610 samples\n",
      "Epoch 1/20\n",
      "2438/2438 [==============================] - 73s 30ms/step - loss: 0.5923 - accuracy: 0.6637 - val_loss: 0.2833 - val_accuracy: 0.9164\n",
      "Epoch 2/20\n",
      "2438/2438 [==============================] - 73s 30ms/step - loss: 0.2563 - accuracy: 0.9073 - val_loss: 0.1979 - val_accuracy: 0.9377\n",
      "Epoch 3/20\n",
      "2438/2438 [==============================] - 73s 30ms/step - loss: 0.1535 - accuracy: 0.9479 - val_loss: 0.2046 - val_accuracy: 0.9115\n",
      "Epoch 4/20\n",
      "2438/2438 [==============================] - 72s 30ms/step - loss: 0.1062 - accuracy: 0.9590 - val_loss: 0.1129 - val_accuracy: 0.9590\n",
      "Epoch 5/20\n",
      "2438/2438 [==============================] - 72s 30ms/step - loss: 0.0996 - accuracy: 0.9651 - val_loss: 0.1026 - val_accuracy: 0.9672\n",
      "Epoch 6/20\n",
      "2438/2438 [==============================] - 72s 30ms/step - loss: 0.0905 - accuracy: 0.9647 - val_loss: 0.0949 - val_accuracy: 0.9607\n",
      "Epoch 7/20\n",
      "2438/2438 [==============================] - 72s 30ms/step - loss: 0.0488 - accuracy: 0.9852 - val_loss: 0.0805 - val_accuracy: 0.9705\n",
      "Epoch 8/20\n",
      "2438/2438 [==============================] - 72s 29ms/step - loss: 0.0514 - accuracy: 0.9840 - val_loss: 0.1038 - val_accuracy: 0.9623\n",
      "Epoch 9/20\n",
      "2438/2438 [==============================] - 72s 30ms/step - loss: 0.0462 - accuracy: 0.9852 - val_loss: 0.0773 - val_accuracy: 0.9689\n",
      "Epoch 10/20\n",
      "2438/2438 [==============================] - 73s 30ms/step - loss: 0.0410 - accuracy: 0.9865 - val_loss: 0.0733 - val_accuracy: 0.9738\n",
      "Epoch 11/20\n",
      "2438/2438 [==============================] - 72s 30ms/step - loss: 0.0321 - accuracy: 0.9881 - val_loss: 0.0748 - val_accuracy: 0.9705\n",
      "Epoch 12/20\n",
      "2438/2438 [==============================] - 73s 30ms/step - loss: 0.0372 - accuracy: 0.9869 - val_loss: 0.0706 - val_accuracy: 0.9754\n",
      "Epoch 13/20\n",
      "2438/2438 [==============================] - 72s 30ms/step - loss: 0.0278 - accuracy: 0.9889 - val_loss: 0.0686 - val_accuracy: 0.9770\n",
      "Epoch 14/20\n",
      "2438/2438 [==============================] - 72s 30ms/step - loss: 0.0278 - accuracy: 0.9897 - val_loss: 0.0706 - val_accuracy: 0.9820\n",
      "Epoch 15/20\n",
      "2438/2438 [==============================] - 72s 29ms/step - loss: 0.0263 - accuracy: 0.9897 - val_loss: 0.0724 - val_accuracy: 0.9689\n",
      "Epoch 16/20\n",
      "2438/2438 [==============================] - 72s 30ms/step - loss: 0.0496 - accuracy: 0.9824 - val_loss: 0.1088 - val_accuracy: 0.9639\n",
      "Epoch 17/20\n",
      "2438/2438 [==============================] - 72s 29ms/step - loss: 0.0312 - accuracy: 0.9893 - val_loss: 0.0711 - val_accuracy: 0.9803\n",
      "Epoch 18/20\n",
      "2438/2438 [==============================] - 72s 29ms/step - loss: 0.0210 - accuracy: 0.9938 - val_loss: 0.0699 - val_accuracy: 0.9820\n",
      "Epoch 19/20\n",
      "2438/2438 [==============================] - 72s 30ms/step - loss: 0.0210 - accuracy: 0.9934 - val_loss: 0.0850 - val_accuracy: 0.9721\n",
      "Epoch 20/20\n",
      "2438/2438 [==============================] - 72s 29ms/step - loss: 0.0258 - accuracy: 0.9914 - val_loss: 0.1015 - val_accuracy: 0.9721\n"
     ]
    }
   ],
   "source": [
    "checkpoint = ModelCheckpoint('model-{epoch:03d}.model',monitor='val_loss',verbose=0,save_best_only=True,mode='auto')\n",
    "history=model.fit(train_data,train_target,epochs=20,callbacks=[checkpoint],validation_split=0.2)"
   ]
  },
  {
   "cell_type": "code",
   "execution_count": 5,
   "metadata": {},
   "outputs": [
    {
     "data": {
      "image/png": "[encoded data removed]",
      "text/plain": [
       "<Figure size 432x288 with 1 Axes>"
      ]
     },
     "metadata": {
      "needs_background": "light"
     },
     "output_type": "display_data"
    }
   ],
   "source": [
    "from matplotlib import pyplot as plt\n",
    "\n",
    "plt.plot(history.history['loss'],'r',label='training loss')\n",
    "plt.plot(history.history['val_loss'],label='validation loss')\n",
    "plt.xlabel('# epochs')\n",
    "plt.ylabel('loss')\n",
    "plt.legend()\n",
    "plt.show()"
   ]
  },
  {
   "cell_type": "code",
   "execution_count": 6,
   "metadata": {},
   "outputs": [
    {
     "data": {
      "image/png": "[encoded data removed]",
      "text/plain": [
       "<Figure size 432x288 with 1 Axes>"
      ]
     },
     "metadata": {
      "needs_background": "light"
     },
     "output_type": "display_data"
    }
   ],
   "source": [
    "plt.plot(history.history['accuracy'],'r',label='training accuracy')\n",
    "plt.plot(history.history['val_accuracy'],label='validation accuracy')\n",
    "plt.xlabel('# epochs')\n",
    "plt.ylabel('loss')\n",
    "plt.legend()\n",
    "plt.show()"
   ]
  },
  {
   "cell_type": "code",
   "execution_count": 7,
   "metadata": {},
   "outputs": [
    {
     "name": "stdout",
     "output_type": "stream",
     "text": [
      "339/339 [==============================] - 3s 7ms/step\n",
      "[0.060213602325194966, 0.9734513163566589]\n"
     ]
    }
   ],
   "source": [
    "print(model.evaluate(test_data,test_target))"
   ]
  },
  {
   "cell_type": "code",
   "execution_count": 8,
   "metadata": {},
   "outputs": [],
   "source": [
    "model.save('masque.h5')"
   ]
  },
  {
   "cell_type": "code",
   "execution_count": null,
   "metadata": {},
   "outputs": [],
   "source": []
  }
 ],
 "metadata": {
  "kernelspec": {
   "display_name": "Python 3 (ipykernel)",
   "language": "python",
   "name": "python3"
  },
  "language_info": {
   "codemirror_mode": {
    "name": "ipython",
    "version": 3
   },
   "file_extension": ".py",
   "mimetype": "text/x-python",
   "name": "python",
   "nbconvert_exporter": "python",
   "pygments_lexer": "ipython3",
   "version": "3.9.7"
  }
 },
 "nbformat": 4,
 "nbformat_minor": 2
}
